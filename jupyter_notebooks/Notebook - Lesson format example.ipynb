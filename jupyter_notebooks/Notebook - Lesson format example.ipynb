{
  "nbformat": 4,
  "nbformat_minor": 0,
  "metadata": {
    "colab": {
      "name": "Notebook - Lesson format example.ipynb",
      "provenance": [],
      "collapsed_sections": []
    },
    "kernelspec": {
      "name": "python383jvsc74a57bd0b3ba2566441a7c06988d0923437866b63cedc61552a5af99d1f4fb67d367b25f",
      "display_name": "Python 3.8.3 64-bit ('base': conda)"
    },
    "language_info": {
      "name": "python",
      "version": "3.8.3"
    }
  },
  "cells": [
    {
      "cell_type": "markdown",
      "metadata": {
        "id": "pTnO1pqWPfQW"
      },
      "source": [
        "# Lesson 01"
      ]
    },
    {
      "cell_type": "markdown",
      "metadata": {
        "id": "wLC4EZ4FMFFd"
      },
      "source": [
        "## Lesson Objectives\n",
        "* Understand what is a NumPy **array**\n",
        "* Experiment with array **builtin methods**\n",
        "* Use array **methods and attributes**\n",
        "\n",
        "<img src=\"https://raw.githubusercontent.com/numpy/numpy/181f273a59744d58f90f45d953a3285484c72cba/branding/logo/primary/numpylogo.svg\" width=\"25%\" height=\"25%\" />"
      ]
    },
    {
      "cell_type": "markdown",
      "metadata": {
        "id": "EbZ0OArSOiY_"
      },
      "source": [
        "* NumPy is a library for the Python programming language, adding support for large, multi-dimensional arrays and matrices, along with a large collection of high-level mathematical functions to operate on these arrays.\n",
        "* It is a **Linear Algebra** Library and almost all of the libraries used in Data Science rely on NumPy as one of their main building blocks."
      ]
    },
    {
      "cell_type": "markdown",
      "metadata": {
        "id": "ZlzqIHhMNiuh"
      },
      "source": [
        "---"
      ]
    },
    {
      "cell_type": "markdown",
      "metadata": {
        "id": "Nm7owy0jOij0"
      },
      "source": [
        "## Import Package"
      ]
    },
    {
      "cell_type": "markdown",
      "metadata": {
        "id": "tsWK7yHMMLjt"
      },
      "source": [
        "* Colab offers a session with a set of packages already installed. To check which packages are installed type in a code cell **!pip freeze** and run it. In case NumPy is not installed, you may type and run in a code cell **!pip install numpy**\n",
        "* NumPy should be already incluced in this set of packages. You will just need to import it."
      ]
    },
    {
      "cell_type": "code",
      "metadata": {
        "id": "2qAuVin_OvsR"
      },
      "source": [
        "import numpy as np"
      ],
      "execution_count": 1,
      "outputs": []
    },
    {
      "cell_type": "markdown",
      "metadata": {
        "id": "kzizwvnUM035"
      },
      "source": [
        "---"
      ]
    },
    {
      "cell_type": "markdown",
      "metadata": {
        "id": "wMsillcAPQhs"
      },
      "source": [
        "## Array"
      ]
    },
    {
      "cell_type": "markdown",
      "metadata": {
        "id": "zwVYlfccPwl7"
      },
      "source": [
        "* An **array** is the foundation of NumPy, it is defined as a grid of values, either numbers or not. It comes as vector or matrix, where vector is a 1-d array, and matrix is 2-d (or n dimension) array. A matrix can also have have 1 row x 1 column.\n",
        "* An array is **useful** because it helps to organize data. With this structure, elements can easily be sorted or searched.\n",
        "* We can create a 1-d array based on a list:\n"
      ]
    },
    {
      "cell_type": "code",
      "metadata": {
        "id": "lwyxHifeO6mB",
        "colab": {
          "base_uri": "https://localhost:8080/"
        },
        "outputId": "38991807-24f9-4319-8575-8fe5f9eba279"
      },
      "source": [
        "my_list = [7,9,88,4621]\n",
        "my_list"
      ],
      "execution_count": 2,
      "outputs": [
        {
          "output_type": "execute_result",
          "data": {
            "text/plain": [
              "[7, 9, 88, 4621]"
            ]
          },
          "metadata": {
            "tags": []
          },
          "execution_count": 2
        }
      ]
    },
    {
      "cell_type": "code",
      "metadata": {
        "id": "0VmFvO8ZKEoJ",
        "colab": {
          "base_uri": "https://localhost:8080/"
        },
        "outputId": "44361863-6ec8-4844-c989-07178b2e97ed"
      },
      "source": [
        "arr = np.array(my_list)\n",
        "arr"
      ],
      "execution_count": 3,
      "outputs": [
        {
          "output_type": "execute_result",
          "data": {
            "text/plain": [
              "array([   7,    9,   88, 4621])"
            ]
          },
          "metadata": {
            "tags": []
          },
          "execution_count": 3
        }
      ]
    },
    {
      "cell_type": "markdown",
      "metadata": {
        "id": "6Ls_jDssdW2c"
      },
      "source": [
        "* In the previous example, please note 1 bracket before the first item. That indicates it is a **1-d array**. \n",
        "\n",
        "\n",
        "```\n",
        "array([   7,    9,   88, 4621])\n",
        "```\n",
        "\n"
      ]
    },
    {
      "cell_type": "markdown",
      "metadata": {
        "id": "j0RSQFLadpYs"
      },
      "source": [
        "* Just a side note\n",
        "  * You don't have necessarily to pass the list as a variable at np.array() function, \n",
        "  * You can write the list directly if you prefer: np.array([7,9,88,4621])\n",
        "  * Both create the same array"
      ]
    },
    {
      "cell_type": "markdown",
      "metadata": {
        "id": "ti7_Hbo0KHMX"
      },
      "source": [
        "* An array can **handle** numbers (integer, float etc), strings (text), timestamps (dates)."
      ]
    },
    {
      "cell_type": "code",
      "metadata": {
        "id": "h5WDb_DkKWcH",
        "colab": {
          "base_uri": "https://localhost:8080/"
        },
        "outputId": "270799bb-f217-43e9-bbcc-61eb15701ab5"
      },
      "source": [
        "my_list = ['text','label_example',55,150,'final_text_example']\n",
        "arr = np.array(my_list)\n",
        "arr"
      ],
      "execution_count": 4,
      "outputs": [
        {
          "output_type": "execute_result",
          "data": {
            "text/plain": [
              "array(['text', 'label_example', '55', '150', 'final_text_example'],\n",
              "      dtype='<U18')"
            ]
          },
          "metadata": {
            "tags": []
          },
          "execution_count": 4
        }
      ]
    },
    {
      "cell_type": "markdown",
      "metadata": {
        "id": "5UrNzwOtKxLc"
      },
      "source": [
        "* If your list has more than 1 dimension, you can create a **2-d array**, or matrix.\n",
        "* Please note the 2 brackets before the first item. That indicates it is a 2-d array.\n"
      ]
    },
    {
      "cell_type": "code",
      "metadata": {
        "id": "3rNhIZ2CO6sA",
        "colab": {
          "base_uri": "https://localhost:8080/"
        },
        "outputId": "bc182c83-cb2a-48a9-e3fb-66c6a7875827"
      },
      "source": [
        "my_matrix = [[10,80,77], [99,99,99], [\"this is good\",\"string1\",\"example\"]]\n",
        "my_matrix"
      ],
      "execution_count": 5,
      "outputs": [
        {
          "output_type": "execute_result",
          "data": {
            "text/plain": [
              "[[10, 80, 77], [99, 99, 99], ['this is good', 'string1', 'example']]"
            ]
          },
          "metadata": {
            "tags": []
          },
          "execution_count": 5
        }
      ]
    },
    {
      "cell_type": "code",
      "metadata": {
        "id": "ByDJVLSnKixL",
        "colab": {
          "base_uri": "https://localhost:8080/"
        },
        "outputId": "16a11fc5-d6cc-4641-ddeb-6c6a70cbcf2d"
      },
      "source": [
        "arr = np.array(my_matrix)\n",
        "arr"
      ],
      "execution_count": 6,
      "outputs": [
        {
          "output_type": "execute_result",
          "data": {
            "text/plain": [
              "array([['10', '80', '77'],\n",
              "       ['99', '99', '99'],\n",
              "       ['this is good', 'string1', 'example']], dtype='<U21')"
            ]
          },
          "metadata": {
            "tags": []
          },
          "execution_count": 6
        }
      ]
    },
    {
      "cell_type": "markdown",
      "metadata": {
        "id": "Zu8hFrtMM4gF"
      },
      "source": [
        "---"
      ]
    },
    {
      "cell_type": "markdown",
      "metadata": {
        "id": "g7QkexWcQ636"
      },
      "source": [
        "## Built-in methods to generate arrays"
      ]
    },
    {
      "cell_type": "markdown",
      "metadata": {
        "id": "x0E6RtMxL3Bn"
      },
      "source": [
        "* You can **generate data for your arrays** using built-in methods\n",
        "* You can quickly create an **evenly spaced** array of numbers using np.arange(). \n",
        "    * You may provide 3 arguments: the start, stop and step size of values interval. \n",
        "    * Stop argument is not inclusive. \n",
        "    * Play around with different step to see the effect. You may try and see the effect with step as 0.5, 1, 2, and 5."
      ]
    },
    {
      "cell_type": "code",
      "metadata": {
        "id": "dnzs8bEnO61k",
        "colab": {
          "base_uri": "https://localhost:8080/"
        },
        "outputId": "3edcf0aa-40b8-4a0e-8f59-e85a42a1dafd"
      },
      "source": [
        "arr = np.arange(start=1,stop=9,step=1)\n",
        "arr"
      ],
      "execution_count": 7,
      "outputs": [
        {
          "output_type": "execute_result",
          "data": {
            "text/plain": [
              "array([1, 2, 3, 4, 5, 6, 7, 8])"
            ]
          },
          "metadata": {
            "tags": []
          },
          "execution_count": 7
        }
      ]
    },
    {
      "cell_type": "markdown",
      "metadata": {
        "id": "A9ImxW5lN02B"
      },
      "source": [
        "* You can also create an **array of zeros**. Just pass the shape of the desired array. The example below has a shape of 2 x 3 and is a 2-d array"
      ]
    },
    {
      "cell_type": "code",
      "metadata": {
        "id": "bj5y88jxRLZ8",
        "colab": {
          "base_uri": "https://localhost:8080/"
        },
        "outputId": "f6504f15-c22f-405f-f84a-a14f6bbd6ff3"
      },
      "source": [
        "arr = np.zeros((2,3))\n",
        "arr"
      ],
      "execution_count": 8,
      "outputs": [
        {
          "output_type": "execute_result",
          "data": {
            "text/plain": [
              "array([[0., 0., 0.],\n",
              "       [0., 0., 0.]])"
            ]
          },
          "metadata": {
            "tags": []
          },
          "execution_count": 8
        }
      ]
    },
    {
      "cell_type": "markdown",
      "metadata": {
        "id": "N2u5ShAtcV7V"
      },
      "source": [
        "* The example below has shape of 2 x 2 x 2 and is a 3-d array of zeros\n",
        "* Please note the 3 brackets before the first item. That indicates it is a 3-d array."
      ]
    },
    {
      "cell_type": "code",
      "metadata": {
        "id": "ETpwXc0ecTlP",
        "colab": {
          "base_uri": "https://localhost:8080/"
        },
        "outputId": "3dbd33d5-3d76-4048-93a4-933e4fa55558"
      },
      "source": [
        "arr = np.zeros((2,2,3))\n",
        "arr"
      ],
      "execution_count": 9,
      "outputs": [
        {
          "output_type": "execute_result",
          "data": {
            "text/plain": [
              "array([[[0., 0., 0.],\n",
              "        [0., 0., 0.]],\n",
              "\n",
              "       [[0., 0., 0.],\n",
              "        [0., 0., 0.]]])"
            ]
          },
          "metadata": {
            "tags": []
          },
          "execution_count": 9
        }
      ]
    },
    {
      "cell_type": "markdown",
      "metadata": {
        "id": "KG3DptUNOFvQ"
      },
      "source": [
        "* You could also create an **array of all ones**. The example below is a 2-d array."
      ]
    },
    {
      "cell_type": "code",
      "metadata": {
        "id": "eF5sBy6JRiG7",
        "colab": {
          "base_uri": "https://localhost:8080/"
        },
        "outputId": "009c13ff-609d-4e58-ac42-54d76aeeb438"
      },
      "source": [
        "arr = np.ones((2,5))\n",
        "arr"
      ],
      "execution_count": 10,
      "outputs": [
        {
          "output_type": "execute_result",
          "data": {
            "text/plain": [
              "array([[1., 1., 1., 1., 1.],\n",
              "       [1., 1., 1., 1., 1.]])"
            ]
          },
          "metadata": {
            "tags": []
          },
          "execution_count": 10
        }
      ]
    },
    {
      "cell_type": "markdown",
      "metadata": {
        "id": "71w9WqAHOHFj"
      },
      "source": [
        "* You can also create **identity matrix**, that is a square matrix that has ones along its main diagonal and zeros everywhere else.\n",
        "* The example below is an identity matrix of shape 4 x 4."
      ]
    },
    {
      "cell_type": "code",
      "metadata": {
        "id": "lsYm6mtIRiJB",
        "colab": {
          "base_uri": "https://localhost:8080/"
        },
        "outputId": "da7fda80-c3a0-4737-8971-91292b30fcab"
      },
      "source": [
        "arr = np.eye(4)\n",
        "arr"
      ],
      "execution_count": 11,
      "outputs": [
        {
          "output_type": "execute_result",
          "data": {
            "text/plain": [
              "array([[1., 0., 0., 0.],\n",
              "       [0., 1., 0., 0.],\n",
              "       [0., 0., 1., 0.],\n",
              "       [0., 0., 0., 1.]])"
            ]
          },
          "metadata": {
            "tags": []
          },
          "execution_count": 11
        }
      ]
    },
    {
      "cell_type": "markdown",
      "metadata": {
        "id": "49JgPM9tOIDD"
      },
      "source": [
        "* A similar function to np.arange() is **np.linspace()**, but instead of step argument, there is num argument. Num is the number of samples that need to be retrieved in that interval. \n",
        "  * You will provide as argument the start, end and how many points you want in between. \n",
        "  * Stop argument here is inclusive"
      ]
    },
    {
      "cell_type": "code",
      "metadata": {
        "id": "b95xXY2MRiLa",
        "colab": {
          "base_uri": "https://localhost:8080/"
        },
        "outputId": "a4e75178-9a82-44bf-f379-7bd450423873"
      },
      "source": [
        "arr = np.linspace(start=1,stop=50,num=5)\n",
        "arr"
      ],
      "execution_count": 12,
      "outputs": [
        {
          "output_type": "execute_result",
          "data": {
            "text/plain": [
              "array([ 1.  , 13.25, 25.5 , 37.75, 50.  ])"
            ]
          },
          "metadata": {
            "tags": []
          },
          "execution_count": 12
        }
      ]
    },
    {
      "cell_type": "markdown",
      "metadata": {
        "id": "mmncc_4gOL_j"
      },
      "source": [
        "* You can also create an array of a given shape with **random values from 0 to 1 using np.random.rand()**\n",
        "    * The arguments are the shape you are interested"
      ]
    },
    {
      "cell_type": "code",
      "metadata": {
        "id": "uCSHbGDkRLcV",
        "colab": {
          "base_uri": "https://localhost:8080/"
        },
        "outputId": "47f0b4ef-ce11-41f9-f7ec-7809aafa45ae"
      },
      "source": [
        "arr = np.random.rand(2,2)  # 2-d array\n",
        "arr"
      ],
      "execution_count": 13,
      "outputs": [
        {
          "output_type": "execute_result",
          "data": {
            "text/plain": [
              "array([[0.34675942, 0.06124652],\n",
              "       [0.50228341, 0.94876263]])"
            ]
          },
          "metadata": {
            "tags": []
          },
          "execution_count": 13
        }
      ]
    },
    {
      "cell_type": "code",
      "metadata": {
        "id": "LQRSSl1f6xyt",
        "colab": {
          "base_uri": "https://localhost:8080/"
        },
        "outputId": "d68a030c-ad9d-4158-8ef7-097addc4e506"
      },
      "source": [
        "arr = np.random.rand(3,5,2) # 3-d array\n",
        "arr"
      ],
      "execution_count": 14,
      "outputs": [
        {
          "output_type": "execute_result",
          "data": {
            "text/plain": [
              "array([[[0.07784958, 0.78660184],\n",
              "        [0.34746185, 0.5739071 ],\n",
              "        [0.71602508, 0.29144449],\n",
              "        [0.18448641, 0.27181435],\n",
              "        [0.43968437, 0.42659782]],\n",
              "\n",
              "       [[0.01871331, 0.88398416],\n",
              "        [0.09285539, 0.95513817],\n",
              "        [0.80784937, 0.45410831],\n",
              "        [0.74082035, 0.92137276],\n",
              "        [0.29756483, 0.71545594]],\n",
              "\n",
              "       [[0.90138414, 0.51007303],\n",
              "        [0.2214252 , 0.84399849],\n",
              "        [0.08037086, 0.65675383],\n",
              "        [0.64750537, 0.23585504],\n",
              "        [0.48890788, 0.38713603]]])"
            ]
          },
          "metadata": {
            "tags": []
          },
          "execution_count": 14
        }
      ]
    },
    {
      "cell_type": "markdown",
      "metadata": {
        "id": "CqJ5nrNtL0jy"
      },
      "source": [
        "* You can also create an array of given shape from a **\"standard normal\" distribution using random.randn()**\n",
        "* A standard normal distribution is a normal distribution with a mean of zero and standard deviation of 1. We will get back to that in future sections of the course"
      ]
    },
    {
      "cell_type": "code",
      "metadata": {
        "id": "AisYzY7hL02p",
        "colab": {
          "base_uri": "https://localhost:8080/"
        },
        "outputId": "2b342576-dd93-46c6-8501-8b09a211d728"
      },
      "source": [
        "arr = np.random.randn(8,2) # 2-d array\n",
        "arr"
      ],
      "execution_count": 15,
      "outputs": [
        {
          "output_type": "execute_result",
          "data": {
            "text/plain": [
              "array([[ 0.80945946, -1.69458939],\n",
              "       [-0.98210179, -0.23687888],\n",
              "       [ 0.73629073, -0.80102737],\n",
              "       [ 0.27509022,  1.20315952],\n",
              "       [-0.74515798,  0.38215246],\n",
              "       [ 0.2571301 ,  1.29532732],\n",
              "       [ 1.5451975 ,  1.24976237],\n",
              "       [-0.55568597, -0.5971104 ]])"
            ]
          },
          "metadata": {
            "tags": []
          },
          "execution_count": 15
        }
      ]
    },
    {
      "cell_type": "code",
      "metadata": {
        "id": "BZyxThBiNWlp",
        "colab": {
          "base_uri": "https://localhost:8080/"
        },
        "outputId": "e47fce70-9bbb-47e4-f37f-ac4b3a3a301f"
      },
      "source": [
        "arr = np.random.randn(80) # 1-d array\n",
        "arr"
      ],
      "execution_count": 16,
      "outputs": [
        {
          "output_type": "execute_result",
          "data": {
            "text/plain": [
              "array([ 1.01035878, -1.81223282, -1.06348074, -1.04164066, -0.70587014,\n",
              "       -0.63608822,  0.34638672,  0.69044209, -0.70631284, -0.39567035,\n",
              "        0.48375374, -0.37779522,  1.11429994,  1.83773154, -1.10202125,\n",
              "        1.09516886,  2.26883814, -0.06407556, -1.14852377, -0.1984065 ,\n",
              "       -0.64755947,  2.36583867,  0.3401628 ,  2.0863095 ,  0.39149914,\n",
              "        0.35251181,  0.94688062, -0.18250771, -0.44572073,  0.83488438,\n",
              "        0.19276051, -1.06676858, -0.33002978, -0.37262604, -0.04192381,\n",
              "       -0.14651586, -0.67324385, -0.78593054, -0.51206091,  0.95795145,\n",
              "       -0.60635976, -0.72069135,  1.88732665,  0.86512039, -0.01652148,\n",
              "       -0.98044635,  1.39022487, -1.1392793 , -1.25862738, -0.92748054,\n",
              "        0.240165  , -1.0591493 , -2.53706341,  0.06525959,  0.28768071,\n",
              "       -0.75931668,  0.93424581, -1.38028274,  0.58909189, -1.36596083,\n",
              "        0.71002022, -0.08766462,  0.99078968,  0.38598278, -0.37217782,\n",
              "       -0.11516998,  1.20810404, -1.35580297,  0.54496886, -0.72433164,\n",
              "        2.08700478,  0.10415281, -0.54993203,  0.39239671, -0.33535969,\n",
              "        0.93346464, -0.38688301,  0.8846408 , -0.89259346,  0.77772419])"
            ]
          },
          "metadata": {
            "tags": []
          },
          "execution_count": 16
        }
      ]
    },
    {
      "cell_type": "markdown",
      "metadata": {
        "id": "mA4D03flOOC4"
      },
      "source": [
        "* You can also create random integers setting the interval and size using **np.random.randint()**\n",
        "  * The arguments for interval are: low (inclusive) and high (exclusive). Size is the output shape, it can be an integer or tuple."
      ]
    },
    {
      "cell_type": "code",
      "metadata": {
        "id": "phE3IexNRLei",
        "colab": {
          "base_uri": "https://localhost:8080/"
        },
        "outputId": "f6db1a8f-4fbe-4962-9908-ca09475270dc"
      },
      "source": [
        "arr = np.random.randint(low=10,high=50,size=5) # 1-d array\n",
        "arr "
      ],
      "execution_count": 17,
      "outputs": [
        {
          "output_type": "execute_result",
          "data": {
            "text/plain": [
              "array([44, 45, 32, 28, 41])"
            ]
          },
          "metadata": {
            "tags": []
          },
          "execution_count": 17
        }
      ]
    },
    {
      "cell_type": "code",
      "metadata": {
        "id": "7bmjwPSp8Eiu",
        "colab": {
          "base_uri": "https://localhost:8080/"
        },
        "outputId": "263f68b3-974a-482d-dc44-84afb6489497"
      },
      "source": [
        "arr = np.random.randint(low=250,high=888,size=(4,3)) # 2-d array\n",
        "arr "
      ],
      "execution_count": 18,
      "outputs": [
        {
          "output_type": "execute_result",
          "data": {
            "text/plain": [
              "array([[390, 674, 626],\n",
              "       [605, 746, 429],\n",
              "       [640, 291, 743],\n",
              "       [743, 477, 467]])"
            ]
          },
          "metadata": {
            "tags": []
          },
          "execution_count": 18
        }
      ]
    },
    {
      "cell_type": "markdown",
      "metadata": {
        "id": "NRCDJuAPLnQf"
      },
      "source": [
        "---"
      ]
    },
    {
      "cell_type": "markdown",
      "metadata": {
        "id": "acgSZydF-ZiH"
      },
      "source": [
        "* You may be interested to generate \"constant\" random values\n",
        "  * **Run the example below multiple times, the random values will change**"
      ]
    },
    {
      "cell_type": "code",
      "metadata": {
        "id": "xFcW6u9d-aWZ",
        "colab": {
          "base_uri": "https://localhost:8080/"
        },
        "outputId": "6f1dbc05-a348-4304-c1ea-c7ec09f2cef8"
      },
      "source": [
        "arr = np.random.randint(low=10,high=50,size=5)\n",
        "arr"
      ],
      "execution_count": 19,
      "outputs": [
        {
          "output_type": "execute_result",
          "data": {
            "text/plain": [
              "array([42, 32, 48, 41, 45])"
            ]
          },
          "metadata": {
            "tags": []
          },
          "execution_count": 19
        }
      ]
    },
    {
      "cell_type": "markdown",
      "metadata": {
        "id": "vI-MmNAG_CAg"
      },
      "source": [
        "* You need to set **numpy seed** in order to get constant random values\n",
        "  * In a jupyter notebook code cell, you just have to add np.seed() before defining your array(s)\n",
        "  * The argument is seed, a integer. You can set any integer\n",
        "  * **Run multiple times the cell below and note the array values will be the same**"
      ]
    },
    {
      "cell_type": "code",
      "metadata": {
        "id": "Rk1muz11_DSc",
        "colab": {
          "base_uri": "https://localhost:8080/"
        },
        "outputId": "431f4d21-b652-4fbd-ced6-c867b16e0db3"
      },
      "source": [
        "np.random.seed(seed=123)\n",
        "arr = np.random.randint(low=10,high=50,size=5)\n",
        "arr"
      ],
      "execution_count": 20,
      "outputs": [
        {
          "output_type": "execute_result",
          "data": {
            "text/plain": [
              "array([12, 38, 44, 48, 27])"
            ]
          },
          "metadata": {
            "tags": []
          },
          "execution_count": 20
        }
      ]
    },
    {
      "cell_type": "markdown",
      "metadata": {
        "id": "UVI47-ZFM50L"
      },
      "source": [
        "---"
      ]
    },
    {
      "cell_type": "markdown",
      "metadata": {
        "id": "weQiuBcJUEaF"
      },
      "source": [
        "## Array Methods"
      ]
    },
    {
      "cell_type": "markdown",
      "metadata": {
        "id": "jQxuj7VaOZbf"
      },
      "source": [
        "* You can reshape the array without changing the data within it using  .reshape() method.\n",
        "  * the example below shows a 1-d array, with shape 40. "
      ]
    },
    {
      "cell_type": "code",
      "metadata": {
        "id": "b9cjED2-UDg0",
        "colab": {
          "base_uri": "https://localhost:8080/"
        },
        "outputId": "d52ee0e1-ff1f-4381-eb67-1d68f70e388c"
      },
      "source": [
        "np.random.seed(seed=0)\n",
        "arr = np.random.randint(low=1,high=150,size=40)\n",
        "arr"
      ],
      "execution_count": 21,
      "outputs": [
        {
          "output_type": "execute_result",
          "data": {
            "text/plain": [
              "array([ 48, 118,  68, 104,  10,  22,  37,  88,  71,  89, 141,  59,  40,\n",
              "        88,  89,  82,  26,  78,  73,  10, 149, 116,  80,  83, 100,  30,\n",
              "       148, 148, 143,  33,  10, 128,  33,  32, 115,  29,  35, 129, 129,\n",
              "        54])"
            ]
          },
          "metadata": {
            "tags": []
          },
          "execution_count": 21
        }
      ]
    },
    {
      "cell_type": "markdown",
      "metadata": {
        "id": "FbcqGgyq80II"
      },
      "source": [
        "* You can reshape as 4 x 10, transforming into a 2-d array"
      ]
    },
    {
      "cell_type": "code",
      "metadata": {
        "id": "VF20VM8dUWwQ",
        "colab": {
          "base_uri": "https://localhost:8080/"
        },
        "outputId": "56afabd8-05da-4bc3-9af0-7af06d96388c"
      },
      "source": [
        "arr = arr.reshape(4,10)\n",
        "arr"
      ],
      "execution_count": 22,
      "outputs": [
        {
          "output_type": "execute_result",
          "data": {
            "text/plain": [
              "array([[ 48, 118,  68, 104,  10,  22,  37,  88,  71,  89],\n",
              "       [141,  59,  40,  88,  89,  82,  26,  78,  73,  10],\n",
              "       [149, 116,  80,  83, 100,  30, 148, 148, 143,  33],\n",
              "       [ 10, 128,  33,  32, 115,  29,  35, 129, 129,  54]])"
            ]
          },
          "metadata": {
            "tags": []
          },
          "execution_count": 22
        }
      ]
    },
    {
      "cell_type": "code",
      "metadata": {
        "id": "ED1EE-soahC1",
        "colab": {
          "base_uri": "https://localhost:8080/"
        },
        "outputId": "64898f53-225d-4cf6-d909-b3add7fe65dc"
      },
      "source": [
        "arr.reshape(1,-1) #####"
      ],
      "execution_count": 23,
      "outputs": [
        {
          "output_type": "execute_result",
          "data": {
            "text/plain": [
              "array([[ 48, 118,  68, 104,  10,  22,  37,  88,  71,  89, 141,  59,  40,\n",
              "         88,  89,  82,  26,  78,  73,  10, 149, 116,  80,  83, 100,  30,\n",
              "        148, 148, 143,  33,  10, 128,  33,  32, 115,  29,  35, 129, 129,\n",
              "         54]])"
            ]
          },
          "metadata": {
            "tags": []
          },
          "execution_count": 23
        }
      ]
    },
    {
      "cell_type": "markdown",
      "metadata": {
        "id": "7T4XVnJQXfSL"
      },
      "source": [
        "* There can be an opposite situation where you have a multidimensional array and want to transform to a 1-d array. You can use **flatten()** for it:"
      ]
    },
    {
      "cell_type": "code",
      "metadata": {
        "id": "NWjz_M74Xgk5",
        "colab": {
          "base_uri": "https://localhost:8080/"
        },
        "outputId": "a698a6ae-f45a-4e8a-f524-4e8429165641"
      },
      "source": [
        "np.random.seed(seed=0)\n",
        "arr = np.random.randint(low=1,high=150,size=(2,5))\n",
        "arr"
      ],
      "execution_count": 24,
      "outputs": [
        {
          "output_type": "execute_result",
          "data": {
            "text/plain": [
              "array([[ 48, 118,  68, 104,  10],\n",
              "       [ 22,  37,  88,  71,  89]])"
            ]
          },
          "metadata": {
            "tags": []
          },
          "execution_count": 24
        }
      ]
    },
    {
      "cell_type": "code",
      "metadata": {
        "id": "ec5twcgOXrQO",
        "colab": {
          "base_uri": "https://localhost:8080/"
        },
        "outputId": "20f3fb3a-d39b-4a4f-8cfc-97c9996e5c6d"
      },
      "source": [
        "arr.flatten()"
      ],
      "execution_count": 25,
      "outputs": [
        {
          "output_type": "execute_result",
          "data": {
            "text/plain": [
              "array([ 48, 118,  68, 104,  10,  22,  37,  88,  71,  89])"
            ]
          },
          "metadata": {
            "tags": []
          },
          "execution_count": 25
        }
      ]
    },
    {
      "cell_type": "code",
      "metadata": {
        "id": "eK2VZ7CjZ1t-",
        "colab": {
          "base_uri": "https://localhost:8080/"
        },
        "outputId": "71a62c85-7893-458a-82cf-93fb57c89037"
      },
      "source": [
        "arr.reshape(-1)"
      ],
      "execution_count": 26,
      "outputs": [
        {
          "output_type": "execute_result",
          "data": {
            "text/plain": [
              "array([ 48, 118,  68, 104,  10,  22,  37,  88,  71,  89])"
            ]
          },
          "metadata": {
            "tags": []
          },
          "execution_count": 26
        }
      ]
    },
    {
      "cell_type": "markdown",
      "metadata": {
        "id": "nQ2vz61PZki0"
      },
      "source": [
        "---"
      ]
    },
    {
      "cell_type": "markdown",
      "metadata": {
        "id": "4hsNlNT29TGd"
      },
      "source": [
        "* Min and Max values can be acessed using .min() and .max() methods."
      ]
    },
    {
      "cell_type": "code",
      "metadata": {
        "id": "6qiRng8BUW0-",
        "colab": {
          "base_uri": "https://localhost:8080/"
        },
        "outputId": "e2f1ae6c-2296-49ed-aaba-4063afe873ae"
      },
      "source": [
        "arr.max()"
      ],
      "execution_count": 27,
      "outputs": [
        {
          "output_type": "execute_result",
          "data": {
            "text/plain": [
              "118"
            ]
          },
          "metadata": {
            "tags": []
          },
          "execution_count": 27
        }
      ]
    },
    {
      "cell_type": "code",
      "metadata": {
        "id": "y4yMLMEyUd16",
        "colab": {
          "base_uri": "https://localhost:8080/"
        },
        "outputId": "e4561dc0-f163-4546-993e-9db9a79c2a49"
      },
      "source": [
        "arr.min()"
      ],
      "execution_count": 28,
      "outputs": [
        {
          "output_type": "execute_result",
          "data": {
            "text/plain": [
              "10"
            ]
          },
          "metadata": {
            "tags": []
          },
          "execution_count": 28
        }
      ]
    },
    {
      "cell_type": "markdown",
      "metadata": {
        "id": "MVeYO5nI9hK5"
      },
      "source": [
        "* You can determine the index position of the minimum or maximum value in the darray along a particular axis using the argmin() and argmax() methods"
      ]
    },
    {
      "cell_type": "code",
      "metadata": {
        "id": "ljtDjMttUdzg",
        "colab": {
          "base_uri": "https://localhost:8080/"
        },
        "outputId": "3b32e1af-a9c9-467e-dd16-1e8a1dfeed8f"
      },
      "source": [
        "arr.argmax()"
      ],
      "execution_count": 29,
      "outputs": [
        {
          "output_type": "execute_result",
          "data": {
            "text/plain": [
              "1"
            ]
          },
          "metadata": {
            "tags": []
          },
          "execution_count": 29
        }
      ]
    },
    {
      "cell_type": "code",
      "metadata": {
        "id": "G0wkKfQ3Ukro",
        "colab": {
          "base_uri": "https://localhost:8080/"
        },
        "outputId": "40ba2de0-1d30-4285-cb51-e990313c41f3"
      },
      "source": [
        "arr.argmin()"
      ],
      "execution_count": 30,
      "outputs": [
        {
          "output_type": "execute_result",
          "data": {
            "text/plain": [
              "4"
            ]
          },
          "metadata": {
            "tags": []
          },
          "execution_count": 30
        }
      ]
    },
    {
      "cell_type": "markdown",
      "metadata": {
        "id": "fm6EAXMkM6kx"
      },
      "source": [
        "---"
      ]
    },
    {
      "cell_type": "markdown",
      "metadata": {
        "id": "KJn40oefVDiR"
      },
      "source": [
        "## Array Attributes"
      ]
    },
    {
      "cell_type": "markdown",
      "metadata": {
        "id": "Fb6PMRHCWoCX"
      },
      "source": [
        "*  You can check the shape and type of a NumPy array using, respectively, the attributes **.shape** and **.dtype**"
      ]
    },
    {
      "cell_type": "code",
      "metadata": {
        "id": "ryyQ3pRFWsms",
        "colab": {
          "base_uri": "https://localhost:8080/"
        },
        "outputId": "6ec2ffe3-a98c-47cc-9f97-8308dd0c78e8"
      },
      "source": [
        "arr = np.arange(start=1,stop=11,step=1).reshape(5,2)\n",
        "\n",
        "print(\n",
        "    f\"* Array:\\n {arr} \\n\\n\"\n",
        "    f\"* Array shape: \\n {arr.shape} \\n\\n\"\n",
        "    f\"* Array type: \\n {arr.dtype}\"\n",
        "    )"
      ],
      "execution_count": 31,
      "outputs": [
        {
          "output_type": "stream",
          "text": [
            "* Array:\n",
            " [[ 1  2]\n",
            " [ 3  4]\n",
            " [ 5  6]\n",
            " [ 7  8]\n",
            " [ 9 10]] \n",
            "\n",
            "* Array shape: \n",
            " (5, 2) \n",
            "\n",
            "* Array type: \n",
            " int64\n"
          ],
          "name": "stdout"
        }
      ]
    },
    {
      "cell_type": "markdown",
      "metadata": {
        "id": "SSuVnDJDM7Qu"
      },
      "source": [
        "---"
      ]
    },
    {
      "cell_type": "markdown",
      "metadata": {
        "id": "WzhIShV6kPo9"
      },
      "source": [
        "## Challenges"
      ]
    },
    {
      "cell_type": "markdown",
      "metadata": {
        "id": "YoJLUJ5ANoxI"
      },
      "source": [
        "### 1"
      ]
    },
    {
      "cell_type": "markdown",
      "metadata": {
        "id": "Ksvs2USUkZHD"
      },
      "source": [
        "* Define the numpy seed=1.\n",
        "* In a variable called **arr**, Create a 2-d array, 4 x 4, with random integers, where the lowest value is 1 and the max 100 (inclusive).\n",
        "* In a print() statement, display the array"
      ]
    },
    {
      "cell_type": "code",
      "metadata": {
        "id": "QaBEq7OSMDgM"
      },
      "source": [
        "# place your code here - john\n",
        "# write the code"
      ],
      "execution_count": 32,
      "outputs": []
    },
    {
      "cell_type": "markdown",
      "metadata": {
        "id": "bJqYkGbNNt6G"
      },
      "source": [
        "### 2"
      ]
    },
    {
      "cell_type": "markdown",
      "metadata": {
        "id": "DPZ2p1wvSlzE"
      },
      "source": [
        "# New section"
      ]
    },
    {
      "cell_type": "markdown",
      "metadata": {
        "id": "IsCn32iHmWmu"
      },
      "source": [
        "* Using your NumPy knowledge, and python knowledge with print statment function and displaying variables using f-string, create the following statement:\n",
        "  * **\"The max value for the array is 80 and its index location is 6. The min value for the array is 2 and its index location is 9.\"**"
      ]
    },
    {
      "cell_type": "code",
      "metadata": {
        "id": "gPVwbYdKkW0O"
      },
      "source": [
        "#%%writefile challeng.py\n",
        "# write your code below\n",
        "def add(a, b):\n",
        "  '''working'''\n",
        "  return a + b"
      ],
      "execution_count": 39,
      "outputs": []
    },
    {
      "cell_type": "markdown",
      "metadata": {
        "id": "bL1DRo6BM8BU"
      },
      "source": [
        "---"
      ]
    },
    {
      "cell_type": "markdown",
      "metadata": {
        "id": "SHv81RsaSpN2"
      },
      "source": [
        "# Challenge Tests"
      ]
    },
    {
      "cell_type": "code",
      "metadata": {
        "colab": {
          "base_uri": "https://localhost:8080/"
        },
        "id": "D_upQy1OSxKt",
        "outputId": "cf172584-b929-4868-eec6-fccfdf2ccfeb"
      },
      "source": [
        "\n",
        "import unittest\n",
        "\n",
        "results = {'Test 1': 'Failed', 'Test 2': 'Failed'}\n",
        "result = None\n",
        "class TestChallenge(unittest.TestCase):\n",
        "  def test_add(self):\n",
        "    self.assertEqual(add(4, 5), 9)\n",
        "    result = 'Passed'\n",
        "    results['Test 1'] = result\n",
        "  \n",
        "  def test_named_correctly(self):\n",
        "    resultb = None\n",
        "    try:\n",
        "      add(4, 5)\n",
        "      resultb = 'passeddddl'\n",
        "    except:\n",
        "      pass\n",
        "    self.assertEqual(resultb, 'passeddddl')\n",
        "    results['Test 2'] = resultb\n",
        "\n",
        "    \n",
        "res = unittest.main(argv=[\"\"], verbosity=2, exit=False)\n",
        "\n"
      ],
      "execution_count": 37,
      "outputs": [
        {
          "output_type": "stream",
          "text": [
            "test_add (__main__.TestChallenge) ... ERROR\n",
            "test_named_correctly (__main__.TestChallenge) ... FAIL\n",
            "\n",
            "======================================================================\n",
            "ERROR: test_add (__main__.TestChallenge)\n",
            "----------------------------------------------------------------------\n",
            "Traceback (most recent call last):\n",
            "  File \"<ipython-input-37-ed5dd9838ae2>\", line 8, in test_add\n",
            "    self.assertEqual(add(4, 5), 9)\n",
            "NameError: name 'add' is not defined\n",
            "\n",
            "======================================================================\n",
            "FAIL: test_named_correctly (__main__.TestChallenge)\n",
            "----------------------------------------------------------------------\n",
            "Traceback (most recent call last):\n",
            "  File \"<ipython-input-37-ed5dd9838ae2>\", line 19, in test_named_correctly\n",
            "    self.assertEqual(resultb, 'passeddddl')\n",
            "AssertionError: None != 'passeddddl'\n",
            "\n",
            "----------------------------------------------------------------------\n",
            "Ran 2 tests in 0.006s\n",
            "\n",
            "FAILED (failures=1, errors=1)\n"
          ],
          "name": "stderr"
        }
      ]
    },
    {
      "cell_type": "markdown",
      "metadata": {
        "id": "V2vcVNoETjBO"
      },
      "source": [
        "# Submission Section"
      ]
    },
    {
      "cell_type": "code",
      "metadata": {
        "colab": {
          "base_uri": "https://localhost:8080/"
        },
        "id": "vuhIC80tfNvF",
        "outputId": "0c93634b-ecaa-4cb2-f2db-a8abc81584cc"
      },
      "source": [
        "# execfile('tests.py')\n",
        "# exec(compile(open('tests.py').read(), 'tests.py', 'exec'))\n",
        "!wget -q https://testcolab.s3-eu-west-1.amazonaws.com/tests.py\n",
        "exec(compile(open('tests.py').read(), 'tests.py', 'exec'))\n",
        "!rm 'tests.py'\n",
        "print('CHALLENGE RESULT', results)\n"
      ],
      "execution_count": 41,
      "outputs": [
        {
          "output_type": "stream",
          "text": [
            "WE are running!!\n",
            "Running {'Test 1': 'Failed', 'Test 2': 'Failed'}\n",
            "CHALLENGE RESULT {'Test 1': 'passed', 'Test 2': 'passed'}\n"
          ],
          "name": "stdout"
        }
      ]
    }
  ]
}