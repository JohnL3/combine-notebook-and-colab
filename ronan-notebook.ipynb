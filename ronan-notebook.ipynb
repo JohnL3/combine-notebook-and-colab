{
  "nbformat": 4,
  "nbformat_minor": 0,
  "metadata": {
    "orig_nbformat": 2,
    "colab": {
      "name": "ronan-notebook.ipynb",
      "provenance": []
    },
    "language_info": {
      "name": "python"
    },
    "kernelspec": {
      "name": "python3",
      "display_name": "Python 3"
    }
  },
  "cells": [
    {
      "cell_type": "code",
      "metadata": {
        "id": "yevobu5H6bfk"
      },
      "source": [
        "ronan = 1"
      ],
      "execution_count": 1,
      "outputs": []
    },
    {
      "cell_type": "markdown",
      "metadata": {
        "id": "_1JpLHzQ6qO5"
      },
      "source": [
        "# SEction 1"
      ]
    },
    {
      "cell_type": "code",
      "metadata": {
        "id": "yZ5kHeEZ6rpK"
      },
      "source": [
        ""
      ],
      "execution_count": null,
      "outputs": []
    },
    {
      "cell_type": "markdown",
      "metadata": {
        "id": "GNY_XsWS6sIa"
      },
      "source": [
        "# Section 2"
      ]
    },
    {
      "cell_type": "code",
      "metadata": {
        "id": "J2TjnFsK6tjH",
        "outputId": "04cd8d98-6952-453f-887f-25417af56b85",
        "colab": {
          "base_uri": "https://localhost:8080/"
        }
      },
      "source": [
        "ronan + 2"
      ],
      "execution_count": 2,
      "outputs": [
        {
          "output_type": "execute_result",
          "data": {
            "text/plain": [
              "3"
            ]
          },
          "metadata": {
            "tags": []
          },
          "execution_count": 2
        }
      ]
    },
    {
      "cell_type": "code",
      "metadata": {
        "id": "vX95q3Cn62VQ"
      },
      "source": [
        ""
      ],
      "execution_count": 3,
      "outputs": []
    },
    {
      "cell_type": "code",
      "metadata": {
        "id": "TDu546DQ63-b"
      },
      "source": [
        ""
      ],
      "execution_count": null,
      "outputs": []
    }
  ]
}